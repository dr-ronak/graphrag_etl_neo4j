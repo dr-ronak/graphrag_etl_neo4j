{
 "cells": [
  {
   "cell_type": "markdown",
   "metadata": {},
   "source": [
    "### Installations"
   ]
  },
  {
   "cell_type": "code",
   "execution_count": 1,
   "metadata": {},
   "outputs": [
    {
     "name": "stdout",
     "output_type": "stream",
     "text": [
      "Requirement already satisfied: pandas in /home/prince/Desktop/content/tutorials/northwind_graph_rag/venv/lib/python3.10/site-packages (2.2.2)\n",
      "Requirement already satisfied: neo4j in /home/prince/Desktop/content/tutorials/northwind_graph_rag/venv/lib/python3.10/site-packages (5.23.1)\n",
      "Requirement already satisfied: python-dotenv in /home/prince/Desktop/content/tutorials/northwind_graph_rag/venv/lib/python3.10/site-packages (1.0.1)\n",
      "Requirement already satisfied: python-dateutil>=2.8.2 in /home/prince/Desktop/content/tutorials/northwind_graph_rag/venv/lib/python3.10/site-packages (from pandas) (2.9.0.post0)\n",
      "Requirement already satisfied: tzdata>=2022.7 in /home/prince/Desktop/content/tutorials/northwind_graph_rag/venv/lib/python3.10/site-packages (from pandas) (2024.1)\n",
      "Requirement already satisfied: pytz>=2020.1 in /home/prince/Desktop/content/tutorials/northwind_graph_rag/venv/lib/python3.10/site-packages (from pandas) (2024.1)\n",
      "Requirement already satisfied: numpy>=1.22.4 in /home/prince/Desktop/content/tutorials/northwind_graph_rag/venv/lib/python3.10/site-packages (from pandas) (2.1.0)\n",
      "Requirement already satisfied: six>=1.5 in /home/prince/Desktop/content/tutorials/northwind_graph_rag/venv/lib/python3.10/site-packages (from python-dateutil>=2.8.2->pandas) (1.16.0)\n"
     ]
    }
   ],
   "source": [
    "!pip install pandas neo4j python-dotenv"
   ]
  },
  {
   "cell_type": "markdown",
   "metadata": {},
   "source": [
    "### Imports"
   ]
  },
  {
   "cell_type": "code",
   "execution_count": 2,
   "metadata": {},
   "outputs": [],
   "source": [
    "import pandas as pd"
   ]
  },
  {
   "cell_type": "code",
   "execution_count": 3,
   "metadata": {},
   "outputs": [],
   "source": [
    "categatory_df = pd.read_csv('../data/categories.csv')\n",
    "product_df = pd.read_csv('../data/products.csv')\n",
    "supplier_df = pd.read_csv('../data/suppliers.csv')"
   ]
  },
  {
   "cell_type": "code",
   "execution_count": 3,
   "metadata": {},
   "outputs": [
    {
     "data": {
      "text/html": [
       "<div>\n",
       "<style scoped>\n",
       "    .dataframe tbody tr th:only-of-type {\n",
       "        vertical-align: middle;\n",
       "    }\n",
       "\n",
       "    .dataframe tbody tr th {\n",
       "        vertical-align: top;\n",
       "    }\n",
       "\n",
       "    .dataframe thead th {\n",
       "        text-align: right;\n",
       "    }\n",
       "</style>\n",
       "<table border=\"1\" class=\"dataframe\">\n",
       "  <thead>\n",
       "    <tr style=\"text-align: right;\">\n",
       "      <th></th>\n",
       "      <th>categoryID</th>\n",
       "      <th>categoryName</th>\n",
       "      <th>description</th>\n",
       "      <th>picture</th>\n",
       "    </tr>\n",
       "  </thead>\n",
       "  <tbody>\n",
       "    <tr>\n",
       "      <th>0</th>\n",
       "      <td>1</td>\n",
       "      <td>Beverages</td>\n",
       "      <td>Soft drinks coffees teas beers and ales</td>\n",
       "      <td>0x151C2F00020000000D000E0014002100FFFFFFFF4269...</td>\n",
       "    </tr>\n",
       "    <tr>\n",
       "      <th>1</th>\n",
       "      <td>2</td>\n",
       "      <td>Condiments</td>\n",
       "      <td>Sweet and savory sauces relishes spreads and s...</td>\n",
       "      <td>0x151C2F00020000000D000E0014002100FFFFFFFF4269...</td>\n",
       "    </tr>\n",
       "    <tr>\n",
       "      <th>2</th>\n",
       "      <td>3</td>\n",
       "      <td>Confections</td>\n",
       "      <td>Desserts candies and sweet breads</td>\n",
       "      <td>0x151C2F00020000000D000E0014002100FFFFFFFF4269...</td>\n",
       "    </tr>\n",
       "    <tr>\n",
       "      <th>3</th>\n",
       "      <td>4</td>\n",
       "      <td>Dairy Products</td>\n",
       "      <td>Cheeses</td>\n",
       "      <td>0x151C2F00020000000D000E0014002100FFFFFFFF4269...</td>\n",
       "    </tr>\n",
       "    <tr>\n",
       "      <th>4</th>\n",
       "      <td>5</td>\n",
       "      <td>Grains/Cereals</td>\n",
       "      <td>Breads crackers pasta and cereal</td>\n",
       "      <td>0x151C2F00020000000D000E0014002100FFFFFFFF4269...</td>\n",
       "    </tr>\n",
       "  </tbody>\n",
       "</table>\n",
       "</div>"
      ],
      "text/plain": [
       "   categoryID    categoryName  \\\n",
       "0           1       Beverages   \n",
       "1           2      Condiments   \n",
       "2           3     Confections   \n",
       "3           4  Dairy Products   \n",
       "4           5  Grains/Cereals   \n",
       "\n",
       "                                         description  \\\n",
       "0            Soft drinks coffees teas beers and ales   \n",
       "1  Sweet and savory sauces relishes spreads and s...   \n",
       "2                  Desserts candies and sweet breads   \n",
       "3                                            Cheeses   \n",
       "4                   Breads crackers pasta and cereal   \n",
       "\n",
       "                                             picture  \n",
       "0  0x151C2F00020000000D000E0014002100FFFFFFFF4269...  \n",
       "1  0x151C2F00020000000D000E0014002100FFFFFFFF4269...  \n",
       "2  0x151C2F00020000000D000E0014002100FFFFFFFF4269...  \n",
       "3  0x151C2F00020000000D000E0014002100FFFFFFFF4269...  \n",
       "4  0x151C2F00020000000D000E0014002100FFFFFFFF4269...  "
      ]
     },
     "execution_count": 3,
     "metadata": {},
     "output_type": "execute_result"
    }
   ],
   "source": [
    "categatory_df.head()"
   ]
  },
  {
   "cell_type": "code",
   "execution_count": 4,
   "metadata": {},
   "outputs": [
    {
     "data": {
      "text/html": [
       "<div>\n",
       "<style scoped>\n",
       "    .dataframe tbody tr th:only-of-type {\n",
       "        vertical-align: middle;\n",
       "    }\n",
       "\n",
       "    .dataframe tbody tr th {\n",
       "        vertical-align: top;\n",
       "    }\n",
       "\n",
       "    .dataframe thead th {\n",
       "        text-align: right;\n",
       "    }\n",
       "</style>\n",
       "<table border=\"1\" class=\"dataframe\">\n",
       "  <thead>\n",
       "    <tr style=\"text-align: right;\">\n",
       "      <th></th>\n",
       "      <th>productID</th>\n",
       "      <th>productName</th>\n",
       "      <th>supplierID</th>\n",
       "      <th>categoryID</th>\n",
       "      <th>quantityPerUnit</th>\n",
       "      <th>unitPrice</th>\n",
       "      <th>unitsInStock</th>\n",
       "      <th>unitsOnOrder</th>\n",
       "      <th>reorderLevel</th>\n",
       "      <th>discontinued</th>\n",
       "    </tr>\n",
       "  </thead>\n",
       "  <tbody>\n",
       "    <tr>\n",
       "      <th>0</th>\n",
       "      <td>1</td>\n",
       "      <td>Chai</td>\n",
       "      <td>1</td>\n",
       "      <td>1</td>\n",
       "      <td>10 boxes x 20 bags</td>\n",
       "      <td>18.00</td>\n",
       "      <td>39</td>\n",
       "      <td>0</td>\n",
       "      <td>10</td>\n",
       "      <td>0</td>\n",
       "    </tr>\n",
       "    <tr>\n",
       "      <th>1</th>\n",
       "      <td>2</td>\n",
       "      <td>Chang</td>\n",
       "      <td>1</td>\n",
       "      <td>1</td>\n",
       "      <td>24 - 12 oz bottles</td>\n",
       "      <td>19.00</td>\n",
       "      <td>17</td>\n",
       "      <td>40</td>\n",
       "      <td>25</td>\n",
       "      <td>0</td>\n",
       "    </tr>\n",
       "    <tr>\n",
       "      <th>2</th>\n",
       "      <td>3</td>\n",
       "      <td>Aniseed Syrup</td>\n",
       "      <td>1</td>\n",
       "      <td>2</td>\n",
       "      <td>12 - 550 ml bottles</td>\n",
       "      <td>10.00</td>\n",
       "      <td>13</td>\n",
       "      <td>70</td>\n",
       "      <td>25</td>\n",
       "      <td>0</td>\n",
       "    </tr>\n",
       "    <tr>\n",
       "      <th>3</th>\n",
       "      <td>4</td>\n",
       "      <td>Chef Anton's Cajun Seasoning</td>\n",
       "      <td>2</td>\n",
       "      <td>2</td>\n",
       "      <td>48 - 6 oz jars</td>\n",
       "      <td>22.00</td>\n",
       "      <td>53</td>\n",
       "      <td>0</td>\n",
       "      <td>0</td>\n",
       "      <td>0</td>\n",
       "    </tr>\n",
       "    <tr>\n",
       "      <th>4</th>\n",
       "      <td>5</td>\n",
       "      <td>Chef Anton's Gumbo Mix</td>\n",
       "      <td>2</td>\n",
       "      <td>2</td>\n",
       "      <td>36 boxes</td>\n",
       "      <td>21.35</td>\n",
       "      <td>0</td>\n",
       "      <td>0</td>\n",
       "      <td>0</td>\n",
       "      <td>1</td>\n",
       "    </tr>\n",
       "  </tbody>\n",
       "</table>\n",
       "</div>"
      ],
      "text/plain": [
       "   productID                   productName  supplierID  categoryID  \\\n",
       "0          1                          Chai           1           1   \n",
       "1          2                         Chang           1           1   \n",
       "2          3                 Aniseed Syrup           1           2   \n",
       "3          4  Chef Anton's Cajun Seasoning           2           2   \n",
       "4          5        Chef Anton's Gumbo Mix           2           2   \n",
       "\n",
       "       quantityPerUnit  unitPrice  unitsInStock  unitsOnOrder  reorderLevel  \\\n",
       "0   10 boxes x 20 bags      18.00            39             0            10   \n",
       "1   24 - 12 oz bottles      19.00            17            40            25   \n",
       "2  12 - 550 ml bottles      10.00            13            70            25   \n",
       "3       48 - 6 oz jars      22.00            53             0             0   \n",
       "4             36 boxes      21.35             0             0             0   \n",
       "\n",
       "   discontinued  \n",
       "0             0  \n",
       "1             0  \n",
       "2             0  \n",
       "3             0  \n",
       "4             1  "
      ]
     },
     "execution_count": 4,
     "metadata": {},
     "output_type": "execute_result"
    }
   ],
   "source": [
    "product_df.head()"
   ]
  },
  {
   "cell_type": "code",
   "execution_count": 5,
   "metadata": {},
   "outputs": [
    {
     "data": {
      "text/html": [
       "<div>\n",
       "<style scoped>\n",
       "    .dataframe tbody tr th:only-of-type {\n",
       "        vertical-align: middle;\n",
       "    }\n",
       "\n",
       "    .dataframe tbody tr th {\n",
       "        vertical-align: top;\n",
       "    }\n",
       "\n",
       "    .dataframe thead th {\n",
       "        text-align: right;\n",
       "    }\n",
       "</style>\n",
       "<table border=\"1\" class=\"dataframe\">\n",
       "  <thead>\n",
       "    <tr style=\"text-align: right;\">\n",
       "      <th></th>\n",
       "      <th>supplierID</th>\n",
       "      <th>companyName</th>\n",
       "      <th>contactName</th>\n",
       "      <th>contactTitle</th>\n",
       "      <th>address</th>\n",
       "      <th>city</th>\n",
       "      <th>region</th>\n",
       "      <th>postalCode</th>\n",
       "      <th>country</th>\n",
       "      <th>phone</th>\n",
       "      <th>fax</th>\n",
       "      <th>homePage</th>\n",
       "    </tr>\n",
       "  </thead>\n",
       "  <tbody>\n",
       "    <tr>\n",
       "      <th>0</th>\n",
       "      <td>1</td>\n",
       "      <td>Exotic Liquids</td>\n",
       "      <td>Charlotte Cooper</td>\n",
       "      <td>Purchasing Manager</td>\n",
       "      <td>49 Gilbert St.</td>\n",
       "      <td>London</td>\n",
       "      <td>NaN</td>\n",
       "      <td>EC1 4SD</td>\n",
       "      <td>UK</td>\n",
       "      <td>(171) 555-2222</td>\n",
       "      <td>NaN</td>\n",
       "      <td>NaN</td>\n",
       "    </tr>\n",
       "    <tr>\n",
       "      <th>1</th>\n",
       "      <td>2</td>\n",
       "      <td>New Orleans Cajun Delights</td>\n",
       "      <td>Shelley Burke</td>\n",
       "      <td>Order Administrator</td>\n",
       "      <td>P.O. Box 78934</td>\n",
       "      <td>New Orleans</td>\n",
       "      <td>LA</td>\n",
       "      <td>70117</td>\n",
       "      <td>USA</td>\n",
       "      <td>(100) 555-4822</td>\n",
       "      <td>NaN</td>\n",
       "      <td>#CAJUN.HTM#</td>\n",
       "    </tr>\n",
       "    <tr>\n",
       "      <th>2</th>\n",
       "      <td>3</td>\n",
       "      <td>Grandma Kelly's Homestead</td>\n",
       "      <td>Regina Murphy</td>\n",
       "      <td>Sales Representative</td>\n",
       "      <td>707 Oxford Rd.</td>\n",
       "      <td>Ann Arbor</td>\n",
       "      <td>MI</td>\n",
       "      <td>48104</td>\n",
       "      <td>USA</td>\n",
       "      <td>(313) 555-5735</td>\n",
       "      <td>(313) 555-3349</td>\n",
       "      <td>NaN</td>\n",
       "    </tr>\n",
       "    <tr>\n",
       "      <th>3</th>\n",
       "      <td>4</td>\n",
       "      <td>Tokyo Traders</td>\n",
       "      <td>Yoshi Nagase</td>\n",
       "      <td>Marketing Manager</td>\n",
       "      <td>9-8 Sekimai Musashino-shi</td>\n",
       "      <td>Tokyo</td>\n",
       "      <td>NaN</td>\n",
       "      <td>100</td>\n",
       "      <td>Japan</td>\n",
       "      <td>(03) 3555-5011</td>\n",
       "      <td>NaN</td>\n",
       "      <td>NaN</td>\n",
       "    </tr>\n",
       "    <tr>\n",
       "      <th>4</th>\n",
       "      <td>5</td>\n",
       "      <td>Cooperativa de Quesos 'Las Cabras'</td>\n",
       "      <td>Antonio del Valle Saavedra</td>\n",
       "      <td>Export Administrator</td>\n",
       "      <td>Calle del Rosal 4</td>\n",
       "      <td>Oviedo</td>\n",
       "      <td>Asturias</td>\n",
       "      <td>33007</td>\n",
       "      <td>Spain</td>\n",
       "      <td>(98) 598 76 54</td>\n",
       "      <td>NaN</td>\n",
       "      <td>NaN</td>\n",
       "    </tr>\n",
       "  </tbody>\n",
       "</table>\n",
       "</div>"
      ],
      "text/plain": [
       "   supplierID                         companyName                 contactName  \\\n",
       "0           1                      Exotic Liquids            Charlotte Cooper   \n",
       "1           2          New Orleans Cajun Delights               Shelley Burke   \n",
       "2           3           Grandma Kelly's Homestead               Regina Murphy   \n",
       "3           4                       Tokyo Traders                Yoshi Nagase   \n",
       "4           5  Cooperativa de Quesos 'Las Cabras'  Antonio del Valle Saavedra   \n",
       "\n",
       "           contactTitle                    address         city    region  \\\n",
       "0    Purchasing Manager             49 Gilbert St.       London       NaN   \n",
       "1   Order Administrator             P.O. Box 78934  New Orleans        LA   \n",
       "2  Sales Representative             707 Oxford Rd.    Ann Arbor        MI   \n",
       "3     Marketing Manager  9-8 Sekimai Musashino-shi        Tokyo       NaN   \n",
       "4  Export Administrator          Calle del Rosal 4       Oviedo  Asturias   \n",
       "\n",
       "  postalCode country           phone             fax     homePage  \n",
       "0    EC1 4SD      UK  (171) 555-2222             NaN          NaN  \n",
       "1      70117     USA  (100) 555-4822             NaN  #CAJUN.HTM#  \n",
       "2      48104     USA  (313) 555-5735  (313) 555-3349          NaN  \n",
       "3        100   Japan  (03) 3555-5011             NaN          NaN  \n",
       "4      33007   Spain  (98) 598 76 54             NaN          NaN  "
      ]
     },
     "execution_count": 5,
     "metadata": {},
     "output_type": "execute_result"
    }
   ],
   "source": [
    "supplier_df.head()"
   ]
  },
  {
   "cell_type": "markdown",
   "metadata": {},
   "source": [
    "### Combine DataFrames"
   ]
  },
  {
   "cell_type": "code",
   "execution_count": 6,
   "metadata": {},
   "outputs": [
    {
     "data": {
      "text/html": [
       "<div>\n",
       "<style scoped>\n",
       "    .dataframe tbody tr th:only-of-type {\n",
       "        vertical-align: middle;\n",
       "    }\n",
       "\n",
       "    .dataframe tbody tr th {\n",
       "        vertical-align: top;\n",
       "    }\n",
       "\n",
       "    .dataframe thead th {\n",
       "        text-align: right;\n",
       "    }\n",
       "</style>\n",
       "<table border=\"1\" class=\"dataframe\">\n",
       "  <thead>\n",
       "    <tr style=\"text-align: right;\">\n",
       "      <th></th>\n",
       "      <th>productID</th>\n",
       "      <th>productName</th>\n",
       "      <th>supplierID</th>\n",
       "      <th>categoryID</th>\n",
       "      <th>quantityPerUnit</th>\n",
       "      <th>unitPrice</th>\n",
       "      <th>unitsInStock</th>\n",
       "      <th>unitsOnOrder</th>\n",
       "      <th>reorderLevel</th>\n",
       "      <th>discontinued</th>\n",
       "      <th>categoryName</th>\n",
       "      <th>description</th>\n",
       "      <th>picture</th>\n",
       "    </tr>\n",
       "  </thead>\n",
       "  <tbody>\n",
       "    <tr>\n",
       "      <th>0</th>\n",
       "      <td>1</td>\n",
       "      <td>Chai</td>\n",
       "      <td>1</td>\n",
       "      <td>1</td>\n",
       "      <td>10 boxes x 20 bags</td>\n",
       "      <td>18.0</td>\n",
       "      <td>39</td>\n",
       "      <td>0</td>\n",
       "      <td>10</td>\n",
       "      <td>0</td>\n",
       "      <td>Beverages</td>\n",
       "      <td>Soft drinks coffees teas beers and ales</td>\n",
       "      <td>0x151C2F00020000000D000E0014002100FFFFFFFF4269...</td>\n",
       "    </tr>\n",
       "  </tbody>\n",
       "</table>\n",
       "</div>"
      ],
      "text/plain": [
       "   productID productName  supplierID  categoryID     quantityPerUnit  \\\n",
       "0          1        Chai           1           1  10 boxes x 20 bags   \n",
       "\n",
       "   unitPrice  unitsInStock  unitsOnOrder  reorderLevel  discontinued  \\\n",
       "0       18.0            39             0            10             0   \n",
       "\n",
       "  categoryName                              description  \\\n",
       "0    Beverages  Soft drinks coffees teas beers and ales   \n",
       "\n",
       "                                             picture  \n",
       "0  0x151C2F00020000000D000E0014002100FFFFFFFF4269...  "
      ]
     },
     "execution_count": 6,
     "metadata": {},
     "output_type": "execute_result"
    }
   ],
   "source": [
    "product_category_df = pd.merge(product_df, categatory_df, on='categoryID')\n",
    "product_category_df.head(1)"
   ]
  },
  {
   "cell_type": "code",
   "execution_count": 7,
   "metadata": {},
   "outputs": [
    {
     "data": {
      "text/plain": [
       "(77, 13)"
      ]
     },
     "execution_count": 7,
     "metadata": {},
     "output_type": "execute_result"
    }
   ],
   "source": [
    "product_category_df.shape"
   ]
  },
  {
   "cell_type": "code",
   "execution_count": 8,
   "metadata": {},
   "outputs": [
    {
     "data": {
      "text/plain": [
       "Index(['productID', 'productName', 'supplierID', 'categoryID',\n",
       "       'quantityPerUnit', 'unitPrice', 'unitsInStock', 'unitsOnOrder',\n",
       "       'reorderLevel', 'discontinued', 'categoryName', 'description',\n",
       "       'picture'],\n",
       "      dtype='object')"
      ]
     },
     "execution_count": 8,
     "metadata": {},
     "output_type": "execute_result"
    }
   ],
   "source": [
    "product_category_df.columns"
   ]
  },
  {
   "cell_type": "code",
   "execution_count": 9,
   "metadata": {},
   "outputs": [
    {
     "data": {
      "text/plain": [
       "productID          0\n",
       "productName        0\n",
       "supplierID         0\n",
       "categoryID         0\n",
       "quantityPerUnit    0\n",
       "unitPrice          0\n",
       "unitsInStock       0\n",
       "unitsOnOrder       0\n",
       "reorderLevel       0\n",
       "discontinued       0\n",
       "categoryName       0\n",
       "description        0\n",
       "picture            0\n",
       "dtype: int64"
      ]
     },
     "execution_count": 9,
     "metadata": {},
     "output_type": "execute_result"
    }
   ],
   "source": [
    "product_category_df.isna().sum()"
   ]
  },
  {
   "cell_type": "code",
   "execution_count": 10,
   "metadata": {},
   "outputs": [
    {
     "data": {
      "text/html": [
       "<div>\n",
       "<style scoped>\n",
       "    .dataframe tbody tr th:only-of-type {\n",
       "        vertical-align: middle;\n",
       "    }\n",
       "\n",
       "    .dataframe tbody tr th {\n",
       "        vertical-align: top;\n",
       "    }\n",
       "\n",
       "    .dataframe thead th {\n",
       "        text-align: right;\n",
       "    }\n",
       "</style>\n",
       "<table border=\"1\" class=\"dataframe\">\n",
       "  <thead>\n",
       "    <tr style=\"text-align: right;\">\n",
       "      <th></th>\n",
       "      <th>supplierID</th>\n",
       "      <th>companyName</th>\n",
       "      <th>contactName</th>\n",
       "      <th>contactTitle</th>\n",
       "      <th>address</th>\n",
       "      <th>city</th>\n",
       "      <th>region</th>\n",
       "      <th>postalCode</th>\n",
       "      <th>country</th>\n",
       "      <th>phone</th>\n",
       "      <th>fax</th>\n",
       "      <th>homePage</th>\n",
       "    </tr>\n",
       "  </thead>\n",
       "  <tbody>\n",
       "    <tr>\n",
       "      <th>0</th>\n",
       "      <td>1</td>\n",
       "      <td>Exotic Liquids</td>\n",
       "      <td>Charlotte Cooper</td>\n",
       "      <td>Purchasing Manager</td>\n",
       "      <td>49 Gilbert St.</td>\n",
       "      <td>London</td>\n",
       "      <td>NaN</td>\n",
       "      <td>EC1 4SD</td>\n",
       "      <td>UK</td>\n",
       "      <td>(171) 555-2222</td>\n",
       "      <td>NaN</td>\n",
       "      <td>NaN</td>\n",
       "    </tr>\n",
       "  </tbody>\n",
       "</table>\n",
       "</div>"
      ],
      "text/plain": [
       "   supplierID     companyName       contactName        contactTitle  \\\n",
       "0           1  Exotic Liquids  Charlotte Cooper  Purchasing Manager   \n",
       "\n",
       "          address    city region postalCode country           phone  fax  \\\n",
       "0  49 Gilbert St.  London    NaN    EC1 4SD      UK  (171) 555-2222  NaN   \n",
       "\n",
       "  homePage  \n",
       "0      NaN  "
      ]
     },
     "execution_count": 10,
     "metadata": {},
     "output_type": "execute_result"
    }
   ],
   "source": [
    "supplier_df.head(1)"
   ]
  },
  {
   "cell_type": "code",
   "execution_count": 11,
   "metadata": {},
   "outputs": [
    {
     "data": {
      "text/html": [
       "<div>\n",
       "<style scoped>\n",
       "    .dataframe tbody tr th:only-of-type {\n",
       "        vertical-align: middle;\n",
       "    }\n",
       "\n",
       "    .dataframe tbody tr th {\n",
       "        vertical-align: top;\n",
       "    }\n",
       "\n",
       "    .dataframe thead th {\n",
       "        text-align: right;\n",
       "    }\n",
       "</style>\n",
       "<table border=\"1\" class=\"dataframe\">\n",
       "  <thead>\n",
       "    <tr style=\"text-align: right;\">\n",
       "      <th></th>\n",
       "      <th>productID</th>\n",
       "      <th>productName</th>\n",
       "      <th>supplierID</th>\n",
       "      <th>categoryID</th>\n",
       "      <th>quantityPerUnit</th>\n",
       "      <th>unitPrice</th>\n",
       "      <th>unitsInStock</th>\n",
       "      <th>unitsOnOrder</th>\n",
       "      <th>reorderLevel</th>\n",
       "      <th>discontinued</th>\n",
       "      <th>...</th>\n",
       "      <th>contactName</th>\n",
       "      <th>contactTitle</th>\n",
       "      <th>address</th>\n",
       "      <th>city</th>\n",
       "      <th>region</th>\n",
       "      <th>postalCode</th>\n",
       "      <th>country</th>\n",
       "      <th>phone</th>\n",
       "      <th>fax</th>\n",
       "      <th>homePage</th>\n",
       "    </tr>\n",
       "  </thead>\n",
       "  <tbody>\n",
       "    <tr>\n",
       "      <th>0</th>\n",
       "      <td>1</td>\n",
       "      <td>Chai</td>\n",
       "      <td>1</td>\n",
       "      <td>1</td>\n",
       "      <td>10 boxes x 20 bags</td>\n",
       "      <td>18.0</td>\n",
       "      <td>39</td>\n",
       "      <td>0</td>\n",
       "      <td>10</td>\n",
       "      <td>0</td>\n",
       "      <td>...</td>\n",
       "      <td>Charlotte Cooper</td>\n",
       "      <td>Purchasing Manager</td>\n",
       "      <td>49 Gilbert St.</td>\n",
       "      <td>London</td>\n",
       "      <td>NaN</td>\n",
       "      <td>EC1 4SD</td>\n",
       "      <td>UK</td>\n",
       "      <td>(171) 555-2222</td>\n",
       "      <td>NaN</td>\n",
       "      <td>NaN</td>\n",
       "    </tr>\n",
       "  </tbody>\n",
       "</table>\n",
       "<p>1 rows × 24 columns</p>\n",
       "</div>"
      ],
      "text/plain": [
       "   productID productName  supplierID  categoryID     quantityPerUnit  \\\n",
       "0          1        Chai           1           1  10 boxes x 20 bags   \n",
       "\n",
       "   unitPrice  unitsInStock  unitsOnOrder  reorderLevel  discontinued  ...  \\\n",
       "0       18.0            39             0            10             0  ...   \n",
       "\n",
       "        contactName        contactTitle         address    city region  \\\n",
       "0  Charlotte Cooper  Purchasing Manager  49 Gilbert St.  London    NaN   \n",
       "\n",
       "  postalCode country           phone  fax homePage  \n",
       "0    EC1 4SD      UK  (171) 555-2222  NaN      NaN  \n",
       "\n",
       "[1 rows x 24 columns]"
      ]
     },
     "execution_count": 11,
     "metadata": {},
     "output_type": "execute_result"
    }
   ],
   "source": [
    "product_category_supplier_df = pd.merge(\n",
    "    product_category_df, \n",
    "    supplier_df, \n",
    "    on='supplierID',\n",
    "    how='left'\n",
    ")\n",
    "product_category_supplier_df.head(1)"
   ]
  },
  {
   "cell_type": "code",
   "execution_count": 12,
   "metadata": {},
   "outputs": [
    {
     "data": {
      "text/plain": [
       "(77, 24)"
      ]
     },
     "execution_count": 12,
     "metadata": {},
     "output_type": "execute_result"
    }
   ],
   "source": [
    "product_category_supplier_df.shape"
   ]
  },
  {
   "cell_type": "code",
   "execution_count": 13,
   "metadata": {},
   "outputs": [
    {
     "data": {
      "text/plain": [
       "productID           0\n",
       "productName         0\n",
       "supplierID          0\n",
       "categoryID          0\n",
       "quantityPerUnit     0\n",
       "unitPrice           0\n",
       "unitsInStock        0\n",
       "unitsOnOrder        0\n",
       "reorderLevel        0\n",
       "discontinued        0\n",
       "categoryName        0\n",
       "description         0\n",
       "picture             0\n",
       "companyName         0\n",
       "contactName         0\n",
       "contactTitle        0\n",
       "address             0\n",
       "city                0\n",
       "region             51\n",
       "postalCode          0\n",
       "country             0\n",
       "phone               0\n",
       "fax                46\n",
       "homePage           59\n",
       "dtype: int64"
      ]
     },
     "execution_count": 13,
     "metadata": {},
     "output_type": "execute_result"
    }
   ],
   "source": [
    "product_category_supplier_df.isna().sum()"
   ]
  },
  {
   "cell_type": "markdown",
   "metadata": {},
   "source": [
    "#### Drop Null Values"
   ]
  },
  {
   "cell_type": "code",
   "execution_count": 14,
   "metadata": {},
   "outputs": [
    {
     "data": {
      "text/plain": [
       "productID          0\n",
       "productName        0\n",
       "supplierID         0\n",
       "categoryID         0\n",
       "quantityPerUnit    0\n",
       "unitPrice          0\n",
       "unitsInStock       0\n",
       "unitsOnOrder       0\n",
       "reorderLevel       0\n",
       "discontinued       0\n",
       "categoryName       0\n",
       "description        0\n",
       "picture            0\n",
       "companyName        0\n",
       "contactName        0\n",
       "contactTitle       0\n",
       "address            0\n",
       "city               0\n",
       "region             0\n",
       "postalCode         0\n",
       "country            0\n",
       "phone              0\n",
       "fax                0\n",
       "homePage           0\n",
       "dtype: int64"
      ]
     },
     "execution_count": 14,
     "metadata": {},
     "output_type": "execute_result"
    }
   ],
   "source": [
    "product_category_supplier_df[\"region\"] = product_category_supplier_df[\"region\"].replace({pd.NA: \"Unknown\"})\n",
    "product_category_supplier_df[\"fax\"] = product_category_supplier_df[\"fax\"].replace({pd.NA: \"Unknown\"})\n",
    "product_category_supplier_df[\"homePage\"] = product_category_supplier_df[\"homePage\"].replace({pd.NA: \"Unknown\"})\n",
    "\n",
    "product_category_supplier_df.isna().sum()"
   ]
  },
  {
   "cell_type": "code",
   "execution_count": 15,
   "metadata": {},
   "outputs": [
    {
     "data": {
      "text/plain": [
       "(77, 24)"
      ]
     },
     "execution_count": 15,
     "metadata": {},
     "output_type": "execute_result"
    }
   ],
   "source": [
    "product_category_supplier_df.shape"
   ]
  },
  {
   "cell_type": "markdown",
   "metadata": {},
   "source": [
    "### Load Envs"
   ]
  },
  {
   "cell_type": "code",
   "execution_count": 5,
   "metadata": {},
   "outputs": [],
   "source": [
    "from dotenv import load_dotenv\n",
    "import os"
   ]
  },
  {
   "cell_type": "code",
   "execution_count": 6,
   "metadata": {},
   "outputs": [],
   "source": [
    "%load_ext dotenv\n",
    "%dotenv"
   ]
  },
  {
   "cell_type": "code",
   "execution_count": 7,
   "metadata": {},
   "outputs": [],
   "source": [
    "NEO4J_URI = os.getenv(\"NEO4J_URI\")\n",
    "NEO4J_USER = os.getenv(\"NEO4J_USERNAME\")\n",
    "NEO4J_PASSWORD = os.getenv(\"NEO4J_PASSWORD\")"
   ]
  },
  {
   "cell_type": "markdown",
   "metadata": {},
   "source": [
    "### Connect To Neo4j"
   ]
  },
  {
   "cell_type": "code",
   "execution_count": 8,
   "metadata": {},
   "outputs": [],
   "source": [
    "from neo4j import GraphDatabase"
   ]
  },
  {
   "cell_type": "code",
   "execution_count": 9,
   "metadata": {},
   "outputs": [],
   "source": [
    "AUTH = (NEO4J_USER, NEO4J_PASSWORD)"
   ]
  },
  {
   "cell_type": "code",
   "execution_count": 11,
   "metadata": {},
   "outputs": [
    {
     "name": "stderr",
     "output_type": "stream",
     "text": [
      "Unable to retrieve routing information\n"
     ]
    },
    {
     "ename": "ServiceUnavailable",
     "evalue": "Unable to retrieve routing information",
     "output_type": "error",
     "traceback": [
      "\u001b[0;31m---------------------------------------------------------------------------\u001b[0m",
      "\u001b[0;31mServiceUnavailable\u001b[0m                        Traceback (most recent call last)",
      "Cell \u001b[0;32mIn[11], line 2\u001b[0m\n\u001b[1;32m      1\u001b[0m \u001b[38;5;28;01mwith\u001b[39;00m GraphDatabase\u001b[38;5;241m.\u001b[39mdriver(NEO4J_URI, auth\u001b[38;5;241m=\u001b[39mAUTH) \u001b[38;5;28;01mas\u001b[39;00m driver:\n\u001b[0;32m----> 2\u001b[0m     \u001b[43mdriver\u001b[49m\u001b[38;5;241;43m.\u001b[39;49m\u001b[43mverify_connectivity\u001b[49m\u001b[43m(\u001b[49m\u001b[43m)\u001b[49m\n",
      "File \u001b[0;32m~/Desktop/content/tutorials/northwind_graph_rag/venv/lib/python3.10/site-packages/neo4j/_sync/driver.py:1067\u001b[0m, in \u001b[0;36mDriver.verify_connectivity\u001b[0;34m(self, **config)\u001b[0m\n\u001b[1;32m   1060\u001b[0m     experimental_warn(\n\u001b[1;32m   1061\u001b[0m         \u001b[38;5;124m\"\u001b[39m\u001b[38;5;124mAll configuration key-word arguments to \u001b[39m\u001b[38;5;124m\"\u001b[39m\n\u001b[1;32m   1062\u001b[0m         \u001b[38;5;124m\"\u001b[39m\u001b[38;5;124mverify_connectivity() are experimental. They might be \u001b[39m\u001b[38;5;124m\"\u001b[39m\n\u001b[1;32m   1063\u001b[0m         \u001b[38;5;124m\"\u001b[39m\u001b[38;5;124mchanged or removed in any future version without prior \u001b[39m\u001b[38;5;124m\"\u001b[39m\n\u001b[1;32m   1064\u001b[0m         \u001b[38;5;124m\"\u001b[39m\u001b[38;5;124mnotice.\u001b[39m\u001b[38;5;124m\"\u001b[39m\n\u001b[1;32m   1065\u001b[0m     )\n\u001b[1;32m   1066\u001b[0m session_config \u001b[38;5;241m=\u001b[39m \u001b[38;5;28mself\u001b[39m\u001b[38;5;241m.\u001b[39m_read_session_config(config)\n\u001b[0;32m-> 1067\u001b[0m \u001b[38;5;28;43mself\u001b[39;49m\u001b[38;5;241;43m.\u001b[39;49m\u001b[43m_get_server_info\u001b[49m\u001b[43m(\u001b[49m\u001b[43msession_config\u001b[49m\u001b[43m)\u001b[49m\n",
      "File \u001b[0;32m~/Desktop/content/tutorials/northwind_graph_rag/venv/lib/python3.10/site-packages/neo4j/_sync/driver.py:1281\u001b[0m, in \u001b[0;36mDriver._get_server_info\u001b[0;34m(self, session_config)\u001b[0m\n\u001b[1;32m   1279\u001b[0m \u001b[38;5;28;01mdef\u001b[39;00m \u001b[38;5;21m_get_server_info\u001b[39m(\u001b[38;5;28mself\u001b[39m, session_config) \u001b[38;5;241m-\u001b[39m\u001b[38;5;241m>\u001b[39m ServerInfo:\n\u001b[1;32m   1280\u001b[0m     \u001b[38;5;28;01mwith\u001b[39;00m \u001b[38;5;28mself\u001b[39m\u001b[38;5;241m.\u001b[39m_session(session_config) \u001b[38;5;28;01mas\u001b[39;00m session:\n\u001b[0;32m-> 1281\u001b[0m         \u001b[38;5;28;01mreturn\u001b[39;00m \u001b[43msession\u001b[49m\u001b[38;5;241;43m.\u001b[39;49m\u001b[43m_get_server_info\u001b[49m\u001b[43m(\u001b[49m\u001b[43m)\u001b[49m\n",
      "File \u001b[0;32m~/Desktop/content/tutorials/northwind_graph_rag/venv/lib/python3.10/site-packages/neo4j/_sync/work/session.py:172\u001b[0m, in \u001b[0;36mSession._get_server_info\u001b[0;34m(self)\u001b[0m\n\u001b[1;32m    170\u001b[0m \u001b[38;5;28;01mdef\u001b[39;00m \u001b[38;5;21m_get_server_info\u001b[39m(\u001b[38;5;28mself\u001b[39m):\n\u001b[1;32m    171\u001b[0m     \u001b[38;5;28;01massert\u001b[39;00m \u001b[38;5;129;01mnot\u001b[39;00m \u001b[38;5;28mself\u001b[39m\u001b[38;5;241m.\u001b[39m_connection\n\u001b[0;32m--> 172\u001b[0m     \u001b[38;5;28;43mself\u001b[39;49m\u001b[38;5;241;43m.\u001b[39;49m\u001b[43m_connect\u001b[49m\u001b[43m(\u001b[49m\u001b[43mREAD_ACCESS\u001b[49m\u001b[43m,\u001b[49m\u001b[43m \u001b[49m\u001b[43mliveness_check_timeout\u001b[49m\u001b[38;5;241;43m=\u001b[39;49m\u001b[38;5;241;43m0\u001b[39;49m\u001b[43m)\u001b[49m\n\u001b[1;32m    173\u001b[0m     server_info \u001b[38;5;241m=\u001b[39m \u001b[38;5;28mself\u001b[39m\u001b[38;5;241m.\u001b[39m_connection\u001b[38;5;241m.\u001b[39mserver_info\n\u001b[1;32m    174\u001b[0m     \u001b[38;5;28mself\u001b[39m\u001b[38;5;241m.\u001b[39m_disconnect()\n",
      "File \u001b[0;32m~/Desktop/content/tutorials/northwind_graph_rag/venv/lib/python3.10/site-packages/neo4j/_sync/work/session.py:130\u001b[0m, in \u001b[0;36mSession._connect\u001b[0;34m(self, access_mode, **acquire_kwargs)\u001b[0m\n\u001b[1;32m    128\u001b[0m     access_mode \u001b[38;5;241m=\u001b[39m \u001b[38;5;28mself\u001b[39m\u001b[38;5;241m.\u001b[39m_config\u001b[38;5;241m.\u001b[39mdefault_access_mode\n\u001b[1;32m    129\u001b[0m \u001b[38;5;28;01mtry\u001b[39;00m:\n\u001b[0;32m--> 130\u001b[0m     \u001b[38;5;28;43msuper\u001b[39;49m\u001b[43m(\u001b[49m\u001b[43m)\u001b[49m\u001b[38;5;241;43m.\u001b[39;49m\u001b[43m_connect\u001b[49m\u001b[43m(\u001b[49m\n\u001b[1;32m    131\u001b[0m \u001b[43m        \u001b[49m\u001b[43maccess_mode\u001b[49m\u001b[43m,\u001b[49m\u001b[43m \u001b[49m\u001b[43mauth\u001b[49m\u001b[38;5;241;43m=\u001b[39;49m\u001b[38;5;28;43mself\u001b[39;49m\u001b[38;5;241;43m.\u001b[39;49m\u001b[43m_config\u001b[49m\u001b[38;5;241;43m.\u001b[39;49m\u001b[43mauth\u001b[49m\u001b[43m,\u001b[49m\u001b[43m \u001b[49m\u001b[38;5;241;43m*\u001b[39;49m\u001b[38;5;241;43m*\u001b[39;49m\u001b[43macquire_kwargs\u001b[49m\n\u001b[1;32m    132\u001b[0m \u001b[43m    \u001b[49m\u001b[43m)\u001b[49m\n\u001b[1;32m    133\u001b[0m \u001b[38;5;28;01mexcept\u001b[39;00m asyncio\u001b[38;5;241m.\u001b[39mCancelledError:\n\u001b[1;32m    134\u001b[0m     \u001b[38;5;28mself\u001b[39m\u001b[38;5;241m.\u001b[39m_handle_cancellation(message\u001b[38;5;241m=\u001b[39m\u001b[38;5;124m\"\u001b[39m\u001b[38;5;124m_connect\u001b[39m\u001b[38;5;124m\"\u001b[39m)\n",
      "File \u001b[0;32m~/Desktop/content/tutorials/northwind_graph_rag/venv/lib/python3.10/site-packages/neo4j/_sync/work/workspace.py:165\u001b[0m, in \u001b[0;36mWorkspace._connect\u001b[0;34m(self, access_mode, auth, **acquire_kwargs)\u001b[0m\n\u001b[1;32m    157\u001b[0m     \u001b[38;5;28;01melse\u001b[39;00m:\n\u001b[1;32m    158\u001b[0m         \u001b[38;5;66;03m# This is the first time we open a connection to a server in a\u001b[39;00m\n\u001b[1;32m    159\u001b[0m         \u001b[38;5;66;03m# cluster environment for this session without explicitly\u001b[39;00m\n\u001b[0;32m   (...)\u001b[0m\n\u001b[1;32m    162\u001b[0m         \u001b[38;5;66;03m# we shall use this database explicitly for all subsequent\u001b[39;00m\n\u001b[1;32m    163\u001b[0m         \u001b[38;5;66;03m# actions within this session.\u001b[39;00m\n\u001b[1;32m    164\u001b[0m         log\u001b[38;5;241m.\u001b[39mdebug(\u001b[38;5;124m\"\u001b[39m\u001b[38;5;124m[#0000]  _: <WORKSPACE> resolve home database\u001b[39m\u001b[38;5;124m\"\u001b[39m)\n\u001b[0;32m--> 165\u001b[0m         \u001b[38;5;28;43mself\u001b[39;49m\u001b[38;5;241;43m.\u001b[39;49m\u001b[43m_pool\u001b[49m\u001b[38;5;241;43m.\u001b[39;49m\u001b[43mupdate_routing_table\u001b[49m\u001b[43m(\u001b[49m\n\u001b[1;32m    166\u001b[0m \u001b[43m            \u001b[49m\u001b[43mdatabase\u001b[49m\u001b[38;5;241;43m=\u001b[39;49m\u001b[38;5;28;43mself\u001b[39;49m\u001b[38;5;241;43m.\u001b[39;49m\u001b[43m_config\u001b[49m\u001b[38;5;241;43m.\u001b[39;49m\u001b[43mdatabase\u001b[49m\u001b[43m,\u001b[49m\n\u001b[1;32m    167\u001b[0m \u001b[43m            \u001b[49m\u001b[43mimp_user\u001b[49m\u001b[38;5;241;43m=\u001b[39;49m\u001b[38;5;28;43mself\u001b[39;49m\u001b[38;5;241;43m.\u001b[39;49m\u001b[43m_config\u001b[49m\u001b[38;5;241;43m.\u001b[39;49m\u001b[43mimpersonated_user\u001b[49m\u001b[43m,\u001b[49m\n\u001b[1;32m    168\u001b[0m \u001b[43m            \u001b[49m\u001b[43mbookmarks\u001b[49m\u001b[38;5;241;43m=\u001b[39;49m\u001b[38;5;28;43mself\u001b[39;49m\u001b[38;5;241;43m.\u001b[39;49m\u001b[43m_get_bookmarks\u001b[49m\u001b[43m(\u001b[49m\u001b[43m)\u001b[49m\u001b[43m,\u001b[49m\n\u001b[1;32m    169\u001b[0m \u001b[43m            \u001b[49m\u001b[43mauth\u001b[49m\u001b[38;5;241;43m=\u001b[39;49m\u001b[43mauth\u001b[49m\u001b[43m,\u001b[49m\n\u001b[1;32m    170\u001b[0m \u001b[43m            \u001b[49m\u001b[43macquisition_timeout\u001b[49m\u001b[38;5;241;43m=\u001b[39;49m\u001b[43macquisition_timeout\u001b[49m\u001b[43m,\u001b[49m\n\u001b[1;32m    171\u001b[0m \u001b[43m            \u001b[49m\u001b[43mdatabase_callback\u001b[49m\u001b[38;5;241;43m=\u001b[39;49m\u001b[38;5;28;43mself\u001b[39;49m\u001b[38;5;241;43m.\u001b[39;49m\u001b[43m_set_cached_database\u001b[49m\n\u001b[1;32m    172\u001b[0m \u001b[43m        \u001b[49m\u001b[43m)\u001b[49m\n\u001b[1;32m    173\u001b[0m acquire_kwargs_ \u001b[38;5;241m=\u001b[39m {\n\u001b[1;32m    174\u001b[0m     \u001b[38;5;124m\"\u001b[39m\u001b[38;5;124maccess_mode\u001b[39m\u001b[38;5;124m\"\u001b[39m: access_mode,\n\u001b[1;32m    175\u001b[0m     \u001b[38;5;124m\"\u001b[39m\u001b[38;5;124mtimeout\u001b[39m\u001b[38;5;124m\"\u001b[39m: acquisition_timeout,\n\u001b[0;32m   (...)\u001b[0m\n\u001b[1;32m    179\u001b[0m     \u001b[38;5;124m\"\u001b[39m\u001b[38;5;124mliveness_check_timeout\u001b[39m\u001b[38;5;124m\"\u001b[39m: \u001b[38;5;28;01mNone\u001b[39;00m,\n\u001b[1;32m    180\u001b[0m }\n\u001b[1;32m    181\u001b[0m acquire_kwargs_\u001b[38;5;241m.\u001b[39mupdate(acquire_kwargs)\n",
      "File \u001b[0;32m~/Desktop/content/tutorials/northwind_graph_rag/venv/lib/python3.10/site-packages/neo4j/_sync/io/_pool.py:802\u001b[0m, in \u001b[0;36mNeo4jPool.update_routing_table\u001b[0;34m(self, database, imp_user, bookmarks, auth, acquisition_timeout, database_callback)\u001b[0m\n\u001b[1;32m    800\u001b[0m \u001b[38;5;66;03m# None of the routers have been successful, so just fail\u001b[39;00m\n\u001b[1;32m    801\u001b[0m log\u001b[38;5;241m.\u001b[39merror(\u001b[38;5;124m\"\u001b[39m\u001b[38;5;124mUnable to retrieve routing information\u001b[39m\u001b[38;5;124m\"\u001b[39m)\n\u001b[0;32m--> 802\u001b[0m \u001b[38;5;28;01mraise\u001b[39;00m ServiceUnavailable(\u001b[38;5;124m\"\u001b[39m\u001b[38;5;124mUnable to retrieve routing information\u001b[39m\u001b[38;5;124m\"\u001b[39m)\n",
      "\u001b[0;31mServiceUnavailable\u001b[0m: Unable to retrieve routing information"
     ]
    }
   ],
   "source": [
    "with GraphDatabase.driver(NEO4J_URI, auth=AUTH) as driver:\n",
    "    driver.verify_connectivity()"
   ]
  },
  {
   "cell_type": "code",
   "execution_count": 23,
   "metadata": {},
   "outputs": [],
   "source": [
    "def insert_data(tx, row):\n",
    "    tx.run('''\n",
    "            CREATE (product:Product {\n",
    "                productID: $productID,\n",
    "                productName: $productName,\n",
    "                supplierID: $supplierID,\n",
    "                categoryID: $categoryID,\n",
    "                quantityPerUnit: $quantityPerUnit,\n",
    "                unitPrice: $unitPrice,\n",
    "                unitsInStock: $unitsInStock,\n",
    "                unitsOnOrder: $unitsOnOrder,\n",
    "                reorderLevel: $reorderLevel,\n",
    "                discontinued: $discontinued\n",
    "            })\n",
    "            MERGE (category:Category {\n",
    "                categoryID: $categoryID,\n",
    "                categoryName: $categoryName,\n",
    "                description: $description,\n",
    "                picture: $picture\n",
    "            })\n",
    "            MERGE (supplier:Supplier {\n",
    "                supplierID: $supplierID,\n",
    "                companyName: $companyName,\n",
    "                contactName: $contactName,\n",
    "                contactTitle: $contactTitle,\n",
    "                address: $address,\n",
    "                city: $city,\n",
    "                region: $region,\n",
    "                postalCode: $postalCode,\n",
    "                country: $country,\n",
    "                phone: $phone,\n",
    "                fax: $fax,\n",
    "                homePage: $homePage\n",
    "            })\n",
    "            CREATE (product)-[:PART_OF]->(category)\n",
    "            CREATE (product)-[:SUPPLIED_BY]->(supplier)\n",
    "            ''', row)"
   ]
  },
  {
   "cell_type": "code",
   "execution_count": 25,
   "metadata": {},
   "outputs": [
    {
     "name": "stderr",
     "output_type": "stream",
     "text": [
      "/tmp/ipykernel_53024/2115727637.py:1: DeprecationWarning: Using a driver after it has been closed is deprecated. Future versions of the driver will raise an error.\n",
      "  with driver.session() as session:\n",
      "/tmp/ipykernel_53024/2115727637.py:3: DeprecationWarning: write_transaction has been renamed to execute_write\n",
      "  session.write_transaction(insert_data, row.to_dict())\n"
     ]
    }
   ],
   "source": [
    "with driver.session() as session:\n",
    "    for _, row in product_category_supplier_df.iterrows():\n",
    "        session.write_transaction(insert_data, row.to_dict())"
   ]
  },
  {
   "cell_type": "markdown",
   "metadata": {},
   "source": [
    "## Order, Order Details, Shippers, Employees And Customers"
   ]
  },
  {
   "cell_type": "code",
   "execution_count": 26,
   "metadata": {},
   "outputs": [],
   "source": [
    "order_df = pd.read_csv('../data/orders.csv')\n",
    "order_detail_df = pd.read_csv('../data/order_details.csv')\n",
    "customer_df = pd.read_csv('../data/customers.csv')\n",
    "shipper_df = pd.read_csv('../data/shippers.csv')\n",
    "employee_df = pd.read_csv('../data/employees.csv')"
   ]
  },
  {
   "cell_type": "code",
   "execution_count": 27,
   "metadata": {},
   "outputs": [
    {
     "data": {
      "text/html": [
       "<div>\n",
       "<style scoped>\n",
       "    .dataframe tbody tr th:only-of-type {\n",
       "        vertical-align: middle;\n",
       "    }\n",
       "\n",
       "    .dataframe tbody tr th {\n",
       "        vertical-align: top;\n",
       "    }\n",
       "\n",
       "    .dataframe thead th {\n",
       "        text-align: right;\n",
       "    }\n",
       "</style>\n",
       "<table border=\"1\" class=\"dataframe\">\n",
       "  <thead>\n",
       "    <tr style=\"text-align: right;\">\n",
       "      <th></th>\n",
       "      <th>orderID</th>\n",
       "      <th>customerID</th>\n",
       "      <th>employeeID</th>\n",
       "      <th>orderDate</th>\n",
       "      <th>requiredDate</th>\n",
       "      <th>shippedDate</th>\n",
       "      <th>shipVia</th>\n",
       "      <th>freight</th>\n",
       "      <th>shipName</th>\n",
       "      <th>shipAddress</th>\n",
       "      <th>shipCity</th>\n",
       "      <th>shipRegion</th>\n",
       "      <th>shipPostalCode</th>\n",
       "      <th>shipCountry</th>\n",
       "    </tr>\n",
       "  </thead>\n",
       "  <tbody>\n",
       "    <tr>\n",
       "      <th>0</th>\n",
       "      <td>10248</td>\n",
       "      <td>VINET</td>\n",
       "      <td>5</td>\n",
       "      <td>1996-07-04 00:00:00.000</td>\n",
       "      <td>1996-08-01 00:00:00.000</td>\n",
       "      <td>1996-07-16 00:00:00.000</td>\n",
       "      <td>3</td>\n",
       "      <td>32.38</td>\n",
       "      <td>Vins et alcools Chevalier</td>\n",
       "      <td>59 rue de l'Abbaye</td>\n",
       "      <td>Reims</td>\n",
       "      <td>NaN</td>\n",
       "      <td>51100</td>\n",
       "      <td>France</td>\n",
       "    </tr>\n",
       "    <tr>\n",
       "      <th>1</th>\n",
       "      <td>10249</td>\n",
       "      <td>TOMSP</td>\n",
       "      <td>6</td>\n",
       "      <td>1996-07-05 00:00:00.000</td>\n",
       "      <td>1996-08-16 00:00:00.000</td>\n",
       "      <td>1996-07-10 00:00:00.000</td>\n",
       "      <td>1</td>\n",
       "      <td>11.61</td>\n",
       "      <td>Toms Spezialitäten</td>\n",
       "      <td>Luisenstr. 48</td>\n",
       "      <td>Münster</td>\n",
       "      <td>NaN</td>\n",
       "      <td>44087</td>\n",
       "      <td>Germany</td>\n",
       "    </tr>\n",
       "    <tr>\n",
       "      <th>2</th>\n",
       "      <td>10250</td>\n",
       "      <td>HANAR</td>\n",
       "      <td>4</td>\n",
       "      <td>1996-07-08 00:00:00.000</td>\n",
       "      <td>1996-08-05 00:00:00.000</td>\n",
       "      <td>1996-07-12 00:00:00.000</td>\n",
       "      <td>2</td>\n",
       "      <td>65.83</td>\n",
       "      <td>Hanari Carnes</td>\n",
       "      <td>Rua do Paço 67</td>\n",
       "      <td>Rio de Janeiro</td>\n",
       "      <td>RJ</td>\n",
       "      <td>05454-876</td>\n",
       "      <td>Brazil</td>\n",
       "    </tr>\n",
       "    <tr>\n",
       "      <th>3</th>\n",
       "      <td>10251</td>\n",
       "      <td>VICTE</td>\n",
       "      <td>3</td>\n",
       "      <td>1996-07-08 00:00:00.000</td>\n",
       "      <td>1996-08-05 00:00:00.000</td>\n",
       "      <td>1996-07-15 00:00:00.000</td>\n",
       "      <td>1</td>\n",
       "      <td>41.34</td>\n",
       "      <td>Victuailles en stock</td>\n",
       "      <td>2 rue du Commerce</td>\n",
       "      <td>Lyon</td>\n",
       "      <td>NaN</td>\n",
       "      <td>69004</td>\n",
       "      <td>France</td>\n",
       "    </tr>\n",
       "    <tr>\n",
       "      <th>4</th>\n",
       "      <td>10252</td>\n",
       "      <td>SUPRD</td>\n",
       "      <td>4</td>\n",
       "      <td>1996-07-09 00:00:00.000</td>\n",
       "      <td>1996-08-06 00:00:00.000</td>\n",
       "      <td>1996-07-11 00:00:00.000</td>\n",
       "      <td>2</td>\n",
       "      <td>51.30</td>\n",
       "      <td>Suprêmes délices</td>\n",
       "      <td>Boulevard Tirou 255</td>\n",
       "      <td>Charleroi</td>\n",
       "      <td>NaN</td>\n",
       "      <td>B-6000</td>\n",
       "      <td>Belgium</td>\n",
       "    </tr>\n",
       "  </tbody>\n",
       "</table>\n",
       "</div>"
      ],
      "text/plain": [
       "   orderID customerID  employeeID                orderDate  \\\n",
       "0    10248      VINET           5  1996-07-04 00:00:00.000   \n",
       "1    10249      TOMSP           6  1996-07-05 00:00:00.000   \n",
       "2    10250      HANAR           4  1996-07-08 00:00:00.000   \n",
       "3    10251      VICTE           3  1996-07-08 00:00:00.000   \n",
       "4    10252      SUPRD           4  1996-07-09 00:00:00.000   \n",
       "\n",
       "              requiredDate              shippedDate  shipVia  freight  \\\n",
       "0  1996-08-01 00:00:00.000  1996-07-16 00:00:00.000        3    32.38   \n",
       "1  1996-08-16 00:00:00.000  1996-07-10 00:00:00.000        1    11.61   \n",
       "2  1996-08-05 00:00:00.000  1996-07-12 00:00:00.000        2    65.83   \n",
       "3  1996-08-05 00:00:00.000  1996-07-15 00:00:00.000        1    41.34   \n",
       "4  1996-08-06 00:00:00.000  1996-07-11 00:00:00.000        2    51.30   \n",
       "\n",
       "                    shipName          shipAddress        shipCity shipRegion  \\\n",
       "0  Vins et alcools Chevalier   59 rue de l'Abbaye           Reims        NaN   \n",
       "1         Toms Spezialitäten        Luisenstr. 48         Münster        NaN   \n",
       "2              Hanari Carnes       Rua do Paço 67  Rio de Janeiro         RJ   \n",
       "3       Victuailles en stock    2 rue du Commerce            Lyon        NaN   \n",
       "4           Suprêmes délices  Boulevard Tirou 255       Charleroi        NaN   \n",
       "\n",
       "  shipPostalCode shipCountry  \n",
       "0          51100      France  \n",
       "1          44087     Germany  \n",
       "2      05454-876      Brazil  \n",
       "3          69004      France  \n",
       "4         B-6000     Belgium  "
      ]
     },
     "execution_count": 27,
     "metadata": {},
     "output_type": "execute_result"
    }
   ],
   "source": [
    "order_df.head()"
   ]
  },
  {
   "cell_type": "code",
   "execution_count": 28,
   "metadata": {},
   "outputs": [],
   "source": [
    "order_order_detail_df = pd.merge(order_df, \n",
    "                                 order_detail_df, \n",
    "                                 on='orderID', \n",
    "                                 how='left'\n",
    "                                )"
   ]
  },
  {
   "cell_type": "code",
   "execution_count": 29,
   "metadata": {},
   "outputs": [
    {
     "data": {
      "text/html": [
       "<div>\n",
       "<style scoped>\n",
       "    .dataframe tbody tr th:only-of-type {\n",
       "        vertical-align: middle;\n",
       "    }\n",
       "\n",
       "    .dataframe tbody tr th {\n",
       "        vertical-align: top;\n",
       "    }\n",
       "\n",
       "    .dataframe thead th {\n",
       "        text-align: right;\n",
       "    }\n",
       "</style>\n",
       "<table border=\"1\" class=\"dataframe\">\n",
       "  <thead>\n",
       "    <tr style=\"text-align: right;\">\n",
       "      <th></th>\n",
       "      <th>orderID</th>\n",
       "      <th>customerID</th>\n",
       "      <th>employeeID</th>\n",
       "      <th>orderDate</th>\n",
       "      <th>requiredDate</th>\n",
       "      <th>shippedDate</th>\n",
       "      <th>shipVia</th>\n",
       "      <th>freight</th>\n",
       "      <th>shipName</th>\n",
       "      <th>shipAddress</th>\n",
       "      <th>shipCity</th>\n",
       "      <th>shipRegion</th>\n",
       "      <th>shipPostalCode</th>\n",
       "      <th>shipCountry</th>\n",
       "      <th>productID</th>\n",
       "      <th>unitPrice</th>\n",
       "      <th>quantity</th>\n",
       "      <th>discount</th>\n",
       "    </tr>\n",
       "  </thead>\n",
       "  <tbody>\n",
       "    <tr>\n",
       "      <th>0</th>\n",
       "      <td>10248</td>\n",
       "      <td>VINET</td>\n",
       "      <td>5</td>\n",
       "      <td>1996-07-04 00:00:00.000</td>\n",
       "      <td>1996-08-01 00:00:00.000</td>\n",
       "      <td>1996-07-16 00:00:00.000</td>\n",
       "      <td>3</td>\n",
       "      <td>32.38</td>\n",
       "      <td>Vins et alcools Chevalier</td>\n",
       "      <td>59 rue de l'Abbaye</td>\n",
       "      <td>Reims</td>\n",
       "      <td>NaN</td>\n",
       "      <td>51100</td>\n",
       "      <td>France</td>\n",
       "      <td>11</td>\n",
       "      <td>14.0</td>\n",
       "      <td>12</td>\n",
       "      <td>0.0</td>\n",
       "    </tr>\n",
       "  </tbody>\n",
       "</table>\n",
       "</div>"
      ],
      "text/plain": [
       "   orderID customerID  employeeID                orderDate  \\\n",
       "0    10248      VINET           5  1996-07-04 00:00:00.000   \n",
       "\n",
       "              requiredDate              shippedDate  shipVia  freight  \\\n",
       "0  1996-08-01 00:00:00.000  1996-07-16 00:00:00.000        3    32.38   \n",
       "\n",
       "                    shipName         shipAddress shipCity shipRegion  \\\n",
       "0  Vins et alcools Chevalier  59 rue de l'Abbaye    Reims        NaN   \n",
       "\n",
       "  shipPostalCode shipCountry  productID  unitPrice  quantity  discount  \n",
       "0          51100      France         11       14.0        12       0.0  "
      ]
     },
     "execution_count": 29,
     "metadata": {},
     "output_type": "execute_result"
    }
   ],
   "source": [
    "order_order_detail_df.head(1)"
   ]
  },
  {
   "cell_type": "code",
   "execution_count": 30,
   "metadata": {},
   "outputs": [],
   "source": [
    "order_order_detail_customer_df = pd.merge(order_order_detail_df, \n",
    "                                          customer_df, \n",
    "                                          on='customerID', \n",
    "                                          how='left'\n",
    "                                         )"
   ]
  },
  {
   "cell_type": "code",
   "execution_count": 32,
   "metadata": {},
   "outputs": [],
   "source": [
    "order_order_detail_customer_shipper_df = pd.merge(order_order_detail_customer_df,\n",
    "                                                    shipper_df,\n",
    "                                                    left_on='shipVia',\n",
    "                                                    right_on='shipperID',\n",
    "                                                    how='left'\n",
    "                                                )"
   ]
  },
  {
   "cell_type": "code",
   "execution_count": 33,
   "metadata": {},
   "outputs": [
    {
     "data": {
      "text/html": [
       "<div>\n",
       "<style scoped>\n",
       "    .dataframe tbody tr th:only-of-type {\n",
       "        vertical-align: middle;\n",
       "    }\n",
       "\n",
       "    .dataframe tbody tr th {\n",
       "        vertical-align: top;\n",
       "    }\n",
       "\n",
       "    .dataframe thead th {\n",
       "        text-align: right;\n",
       "    }\n",
       "</style>\n",
       "<table border=\"1\" class=\"dataframe\">\n",
       "  <thead>\n",
       "    <tr style=\"text-align: right;\">\n",
       "      <th></th>\n",
       "      <th>orderID</th>\n",
       "      <th>customerID</th>\n",
       "      <th>employeeID</th>\n",
       "      <th>orderDate</th>\n",
       "      <th>requiredDate</th>\n",
       "      <th>shippedDate</th>\n",
       "      <th>shipVia</th>\n",
       "      <th>freight</th>\n",
       "      <th>shipName</th>\n",
       "      <th>shipAddress</th>\n",
       "      <th>...</th>\n",
       "      <th>address</th>\n",
       "      <th>city</th>\n",
       "      <th>region</th>\n",
       "      <th>postalCode</th>\n",
       "      <th>country</th>\n",
       "      <th>phone_x</th>\n",
       "      <th>fax</th>\n",
       "      <th>shipperID</th>\n",
       "      <th>companyName_y</th>\n",
       "      <th>phone_y</th>\n",
       "    </tr>\n",
       "  </thead>\n",
       "  <tbody>\n",
       "    <tr>\n",
       "      <th>0</th>\n",
       "      <td>10248</td>\n",
       "      <td>VINET</td>\n",
       "      <td>5</td>\n",
       "      <td>1996-07-04 00:00:00.000</td>\n",
       "      <td>1996-08-01 00:00:00.000</td>\n",
       "      <td>1996-07-16 00:00:00.000</td>\n",
       "      <td>3</td>\n",
       "      <td>32.38</td>\n",
       "      <td>Vins et alcools Chevalier</td>\n",
       "      <td>59 rue de l'Abbaye</td>\n",
       "      <td>...</td>\n",
       "      <td>59 rue de l'Abbaye</td>\n",
       "      <td>Reims</td>\n",
       "      <td>NaN</td>\n",
       "      <td>51100</td>\n",
       "      <td>France</td>\n",
       "      <td>26.47.15.10</td>\n",
       "      <td>26.47.15.11</td>\n",
       "      <td>3</td>\n",
       "      <td>Federal Shipping</td>\n",
       "      <td>(503) 555-9931</td>\n",
       "    </tr>\n",
       "  </tbody>\n",
       "</table>\n",
       "<p>1 rows × 31 columns</p>\n",
       "</div>"
      ],
      "text/plain": [
       "   orderID customerID  employeeID                orderDate  \\\n",
       "0    10248      VINET           5  1996-07-04 00:00:00.000   \n",
       "\n",
       "              requiredDate              shippedDate  shipVia  freight  \\\n",
       "0  1996-08-01 00:00:00.000  1996-07-16 00:00:00.000        3    32.38   \n",
       "\n",
       "                    shipName         shipAddress  ...             address  \\\n",
       "0  Vins et alcools Chevalier  59 rue de l'Abbaye  ...  59 rue de l'Abbaye   \n",
       "\n",
       "    city region postalCode  country      phone_x          fax  shipperID  \\\n",
       "0  Reims    NaN      51100   France  26.47.15.10  26.47.15.11          3   \n",
       "\n",
       "      companyName_y         phone_y  \n",
       "0  Federal Shipping  (503) 555-9931  \n",
       "\n",
       "[1 rows x 31 columns]"
      ]
     },
     "execution_count": 33,
     "metadata": {},
     "output_type": "execute_result"
    }
   ],
   "source": [
    "order_order_detail_customer_shipper_df.head(1)"
   ]
  },
  {
   "cell_type": "code",
   "execution_count": 34,
   "metadata": {},
   "outputs": [],
   "source": [
    "order_order_detail_customer_shipper_employee = pd.merge(order_order_detail_customer_shipper_df,\n",
    "                                                            employee_df,\n",
    "                                                            left_on='employeeID',\n",
    "                                                            right_on='employeeID',\n",
    "                                                            how='left'\n",
    "                                                            )"
   ]
  },
  {
   "cell_type": "code",
   "execution_count": 35,
   "metadata": {},
   "outputs": [
    {
     "data": {
      "text/html": [
       "<div>\n",
       "<style scoped>\n",
       "    .dataframe tbody tr th:only-of-type {\n",
       "        vertical-align: middle;\n",
       "    }\n",
       "\n",
       "    .dataframe tbody tr th {\n",
       "        vertical-align: top;\n",
       "    }\n",
       "\n",
       "    .dataframe thead th {\n",
       "        text-align: right;\n",
       "    }\n",
       "</style>\n",
       "<table border=\"1\" class=\"dataframe\">\n",
       "  <thead>\n",
       "    <tr style=\"text-align: right;\">\n",
       "      <th></th>\n",
       "      <th>orderID</th>\n",
       "      <th>customerID</th>\n",
       "      <th>employeeID</th>\n",
       "      <th>orderDate</th>\n",
       "      <th>requiredDate</th>\n",
       "      <th>shippedDate</th>\n",
       "      <th>shipVia</th>\n",
       "      <th>freight</th>\n",
       "      <th>shipName</th>\n",
       "      <th>shipAddress</th>\n",
       "      <th>...</th>\n",
       "      <th>city_y</th>\n",
       "      <th>region_y</th>\n",
       "      <th>postalCode_y</th>\n",
       "      <th>country_y</th>\n",
       "      <th>homePhone</th>\n",
       "      <th>extension</th>\n",
       "      <th>photo</th>\n",
       "      <th>notes</th>\n",
       "      <th>reportsTo</th>\n",
       "      <th>photoPath</th>\n",
       "    </tr>\n",
       "  </thead>\n",
       "  <tbody>\n",
       "    <tr>\n",
       "      <th>0</th>\n",
       "      <td>10248</td>\n",
       "      <td>VINET</td>\n",
       "      <td>5</td>\n",
       "      <td>1996-07-04 00:00:00.000</td>\n",
       "      <td>1996-08-01 00:00:00.000</td>\n",
       "      <td>1996-07-16 00:00:00.000</td>\n",
       "      <td>3</td>\n",
       "      <td>32.38</td>\n",
       "      <td>Vins et alcools Chevalier</td>\n",
       "      <td>59 rue de l'Abbaye</td>\n",
       "      <td>...</td>\n",
       "      <td>London</td>\n",
       "      <td>NaN</td>\n",
       "      <td>SW1 8JR</td>\n",
       "      <td>UK</td>\n",
       "      <td>(71) 555-4848</td>\n",
       "      <td>3453</td>\n",
       "      <td>0x151C2F00020000000D000E0014002100FFFFFFFF4269...</td>\n",
       "      <td>Steven Buchanan graduated from St. Andrews Uni...</td>\n",
       "      <td>2.0</td>\n",
       "      <td>http://accweb/emmployees/buchanan.bmp</td>\n",
       "    </tr>\n",
       "  </tbody>\n",
       "</table>\n",
       "<p>1 rows × 48 columns</p>\n",
       "</div>"
      ],
      "text/plain": [
       "   orderID customerID  employeeID                orderDate  \\\n",
       "0    10248      VINET           5  1996-07-04 00:00:00.000   \n",
       "\n",
       "              requiredDate              shippedDate  shipVia  freight  \\\n",
       "0  1996-08-01 00:00:00.000  1996-07-16 00:00:00.000        3    32.38   \n",
       "\n",
       "                    shipName         shipAddress  ...  city_y region_y  \\\n",
       "0  Vins et alcools Chevalier  59 rue de l'Abbaye  ...  London      NaN   \n",
       "\n",
       "  postalCode_y country_y      homePhone  extension  \\\n",
       "0      SW1 8JR        UK  (71) 555-4848       3453   \n",
       "\n",
       "                                               photo  \\\n",
       "0  0x151C2F00020000000D000E0014002100FFFFFFFF4269...   \n",
       "\n",
       "                                               notes reportsTo  \\\n",
       "0  Steven Buchanan graduated from St. Andrews Uni...       2.0   \n",
       "\n",
       "                               photoPath  \n",
       "0  http://accweb/emmployees/buchanan.bmp  \n",
       "\n",
       "[1 rows x 48 columns]"
      ]
     },
     "execution_count": 35,
     "metadata": {},
     "output_type": "execute_result"
    }
   ],
   "source": [
    "order_order_detail_customer_shipper_employee.head(1)"
   ]
  },
  {
   "cell_type": "code",
   "execution_count": 36,
   "metadata": {},
   "outputs": [
    {
     "data": {
      "text/plain": [
       "(2155, 48)"
      ]
     },
     "execution_count": 36,
     "metadata": {},
     "output_type": "execute_result"
    }
   ],
   "source": [
    "order_order_detail_customer_shipper_employee.shape"
   ]
  },
  {
   "cell_type": "code",
   "execution_count": 37,
   "metadata": {},
   "outputs": [
    {
     "data": {
      "text/plain": [
       "orderID               0\n",
       "customerID            0\n",
       "employeeID            0\n",
       "orderDate             0\n",
       "requiredDate          0\n",
       "shippedDate          73\n",
       "shipVia               0\n",
       "freight               0\n",
       "shipName              0\n",
       "shipAddress           0\n",
       "shipCity              0\n",
       "shipRegion         1299\n",
       "shipPostalCode       55\n",
       "shipCountry           0\n",
       "productID             0\n",
       "unitPrice             0\n",
       "quantity              0\n",
       "discount              0\n",
       "companyName_x         0\n",
       "contactName           0\n",
       "contactTitle          0\n",
       "address_x             0\n",
       "city_x                0\n",
       "region_x           1329\n",
       "postalCode_x         55\n",
       "country_x             0\n",
       "phone_x               0\n",
       "fax                 649\n",
       "shipperID             0\n",
       "companyName_y         0\n",
       "phone_y               0\n",
       "lastName              0\n",
       "firstName             0\n",
       "title                 0\n",
       "titleOfCourtesy       0\n",
       "birthDate             0\n",
       "hireDate              0\n",
       "address_y             0\n",
       "city_y                0\n",
       "region_y            568\n",
       "postalCode_y          0\n",
       "country_y             0\n",
       "homePhone             0\n",
       "extension             0\n",
       "photo                 0\n",
       "notes                 0\n",
       "reportsTo           241\n",
       "photoPath             0\n",
       "dtype: int64"
      ]
     },
     "execution_count": 37,
     "metadata": {},
     "output_type": "execute_result"
    }
   ],
   "source": [
    "order_order_detail_customer_shipper_employee.isna().sum()"
   ]
  },
  {
   "cell_type": "code",
   "execution_count": 38,
   "metadata": {},
   "outputs": [],
   "source": [
    "order_order_detail_customer_shipper_employee.replace({pd.NA: \"Unknown\"}, inplace=True)"
   ]
  },
  {
   "cell_type": "code",
   "execution_count": 39,
   "metadata": {},
   "outputs": [
    {
     "data": {
      "text/plain": [
       "orderID              0\n",
       "customerID           0\n",
       "employeeID           0\n",
       "orderDate            0\n",
       "requiredDate         0\n",
       "shippedDate          0\n",
       "shipVia              0\n",
       "freight              0\n",
       "shipName             0\n",
       "shipAddress          0\n",
       "shipCity             0\n",
       "shipRegion           0\n",
       "shipPostalCode       0\n",
       "shipCountry          0\n",
       "productID            0\n",
       "unitPrice            0\n",
       "quantity             0\n",
       "discount             0\n",
       "companyName_x        0\n",
       "contactName          0\n",
       "contactTitle         0\n",
       "address_x            0\n",
       "city_x               0\n",
       "region_x             0\n",
       "postalCode_x         0\n",
       "country_x            0\n",
       "phone_x              0\n",
       "fax                  0\n",
       "shipperID            0\n",
       "companyName_y        0\n",
       "phone_y              0\n",
       "lastName             0\n",
       "firstName            0\n",
       "title                0\n",
       "titleOfCourtesy      0\n",
       "birthDate            0\n",
       "hireDate             0\n",
       "address_y            0\n",
       "city_y               0\n",
       "region_y             0\n",
       "postalCode_y         0\n",
       "country_y            0\n",
       "homePhone            0\n",
       "extension            0\n",
       "photo                0\n",
       "notes                0\n",
       "reportsTo          241\n",
       "photoPath            0\n",
       "dtype: int64"
      ]
     },
     "execution_count": 39,
     "metadata": {},
     "output_type": "execute_result"
    }
   ],
   "source": [
    "order_order_detail_customer_shipper_employee.isna().sum()  "
   ]
  },
  {
   "cell_type": "code",
   "execution_count": 40,
   "metadata": {},
   "outputs": [
    {
     "data": {
      "text/plain": [
       "0       2.0\n",
       "1       2.0\n",
       "2       2.0\n",
       "3       5.0\n",
       "4       5.0\n",
       "       ... \n",
       "2150    2.0\n",
       "2151    2.0\n",
       "2152    2.0\n",
       "2153    2.0\n",
       "2154    2.0\n",
       "Name: reportsTo, Length: 2155, dtype: float64"
      ]
     },
     "execution_count": 40,
     "metadata": {},
     "output_type": "execute_result"
    }
   ],
   "source": [
    "order_order_detail_customer_shipper_employee[\"reportsTo\"]"
   ]
  },
  {
   "cell_type": "code",
   "execution_count": 41,
   "metadata": {},
   "outputs": [
    {
     "data": {
      "text/plain": [
       "0       2\n",
       "1       2\n",
       "2       2\n",
       "3       5\n",
       "4       5\n",
       "       ..\n",
       "2150    2\n",
       "2151    2\n",
       "2152    2\n",
       "2153    2\n",
       "2154    2\n",
       "Name: reportsTo, Length: 2155, dtype: Int64"
      ]
     },
     "execution_count": 41,
     "metadata": {},
     "output_type": "execute_result"
    }
   ],
   "source": [
    "order_order_detail_customer_shipper_employee['reportsTo'] = order_order_detail_customer_shipper_employee['reportsTo'].astype('Int64')\n",
    "order_order_detail_customer_shipper_employee[\"reportsTo\"]"
   ]
  },
  {
   "cell_type": "code",
   "execution_count": 42,
   "metadata": {},
   "outputs": [],
   "source": [
    "order_order_detail_customer_shipper_employee[\"reportsTo\"] = order_order_detail_customer_shipper_employee[\"reportsTo\"].replace({pd.NA: 2})"
   ]
  },
  {
   "cell_type": "code",
   "execution_count": 43,
   "metadata": {},
   "outputs": [
    {
     "data": {
      "text/plain": [
       "orderID            0\n",
       "customerID         0\n",
       "employeeID         0\n",
       "orderDate          0\n",
       "requiredDate       0\n",
       "shippedDate        0\n",
       "shipVia            0\n",
       "freight            0\n",
       "shipName           0\n",
       "shipAddress        0\n",
       "shipCity           0\n",
       "shipRegion         0\n",
       "shipPostalCode     0\n",
       "shipCountry        0\n",
       "productID          0\n",
       "unitPrice          0\n",
       "quantity           0\n",
       "discount           0\n",
       "companyName_x      0\n",
       "contactName        0\n",
       "contactTitle       0\n",
       "address_x          0\n",
       "city_x             0\n",
       "region_x           0\n",
       "postalCode_x       0\n",
       "country_x          0\n",
       "phone_x            0\n",
       "fax                0\n",
       "shipperID          0\n",
       "companyName_y      0\n",
       "phone_y            0\n",
       "lastName           0\n",
       "firstName          0\n",
       "title              0\n",
       "titleOfCourtesy    0\n",
       "birthDate          0\n",
       "hireDate           0\n",
       "address_y          0\n",
       "city_y             0\n",
       "region_y           0\n",
       "postalCode_y       0\n",
       "country_y          0\n",
       "homePhone          0\n",
       "extension          0\n",
       "photo              0\n",
       "notes              0\n",
       "reportsTo          0\n",
       "photoPath          0\n",
       "dtype: int64"
      ]
     },
     "execution_count": 43,
     "metadata": {},
     "output_type": "execute_result"
    }
   ],
   "source": [
    "order_order_detail_customer_shipper_employee.isna().sum()"
   ]
  },
  {
   "cell_type": "code",
   "execution_count": 44,
   "metadata": {},
   "outputs": [
    {
     "data": {
      "text/plain": [
       "Index(['orderID', 'customerID', 'employeeID', 'orderDate', 'requiredDate',\n",
       "       'shippedDate', 'shipVia', 'freight', 'shipName', 'shipAddress',\n",
       "       'shipCity', 'shipRegion', 'shipPostalCode', 'shipCountry', 'productID',\n",
       "       'unitPrice', 'quantity', 'discount', 'companyName_x', 'contactName',\n",
       "       'contactTitle', 'address_x', 'city_x', 'region_x', 'postalCode_x',\n",
       "       'country_x', 'phone_x', 'fax', 'shipperID', 'companyName_y', 'phone_y',\n",
       "       'lastName', 'firstName', 'title', 'titleOfCourtesy', 'birthDate',\n",
       "       'hireDate', 'address_y', 'city_y', 'region_y', 'postalCode_y',\n",
       "       'country_y', 'homePhone', 'extension', 'photo', 'notes', 'reportsTo',\n",
       "       'photoPath'],\n",
       "      dtype='object')"
      ]
     },
     "execution_count": 44,
     "metadata": {},
     "output_type": "execute_result"
    }
   ],
   "source": [
    "order_order_detail_customer_shipper_employee.columns"
   ]
  },
  {
   "cell_type": "code",
   "execution_count": 50,
   "metadata": {},
   "outputs": [
    {
     "data": {
      "text/plain": [
       "(2155, 48)"
      ]
     },
     "execution_count": 50,
     "metadata": {},
     "output_type": "execute_result"
    }
   ],
   "source": [
    "order_order_detail_customer_shipper_employee.shape"
   ]
  },
  {
   "cell_type": "markdown",
   "metadata": {},
   "source": [
    "#### Create Vice President\\CEO Employee First"
   ]
  },
  {
   "cell_type": "code",
   "execution_count": 52,
   "metadata": {},
   "outputs": [
    {
     "data": {
      "text/html": [
       "<div>\n",
       "<style scoped>\n",
       "    .dataframe tbody tr th:only-of-type {\n",
       "        vertical-align: middle;\n",
       "    }\n",
       "\n",
       "    .dataframe tbody tr th {\n",
       "        vertical-align: top;\n",
       "    }\n",
       "\n",
       "    .dataframe thead th {\n",
       "        text-align: right;\n",
       "    }\n",
       "</style>\n",
       "<table border=\"1\" class=\"dataframe\">\n",
       "  <thead>\n",
       "    <tr style=\"text-align: right;\">\n",
       "      <th></th>\n",
       "      <th>employeeID</th>\n",
       "      <th>lastName</th>\n",
       "      <th>firstName</th>\n",
       "      <th>title</th>\n",
       "      <th>titleOfCourtesy</th>\n",
       "      <th>birthDate</th>\n",
       "      <th>hireDate</th>\n",
       "      <th>address</th>\n",
       "      <th>city</th>\n",
       "      <th>region</th>\n",
       "      <th>postalCode</th>\n",
       "      <th>country</th>\n",
       "      <th>homePhone</th>\n",
       "      <th>extension</th>\n",
       "      <th>photo</th>\n",
       "      <th>notes</th>\n",
       "      <th>reportsTo</th>\n",
       "      <th>photoPath</th>\n",
       "    </tr>\n",
       "  </thead>\n",
       "  <tbody>\n",
       "    <tr>\n",
       "      <th>1</th>\n",
       "      <td>2</td>\n",
       "      <td>Fuller</td>\n",
       "      <td>Andrew</td>\n",
       "      <td>Vice President Sales</td>\n",
       "      <td>Dr.</td>\n",
       "      <td>1952-02-19 00:00:00.000</td>\n",
       "      <td>1992-08-14 00:00:00.000</td>\n",
       "      <td>908 W. Capital Way</td>\n",
       "      <td>Tacoma</td>\n",
       "      <td>WA</td>\n",
       "      <td>98401</td>\n",
       "      <td>USA</td>\n",
       "      <td>(206) 555-9482</td>\n",
       "      <td>3457</td>\n",
       "      <td>0x151C2F00020000000D000E0014002100FFFFFFFF4269...</td>\n",
       "      <td>Andrew received his BTS commercial in 1974 and...</td>\n",
       "      <td>NaN</td>\n",
       "      <td>http://accweb/emmployees/fuller.bmp</td>\n",
       "    </tr>\n",
       "  </tbody>\n",
       "</table>\n",
       "</div>"
      ],
      "text/plain": [
       "   employeeID lastName firstName                 title titleOfCourtesy  \\\n",
       "1           2   Fuller    Andrew  Vice President Sales             Dr.   \n",
       "\n",
       "                 birthDate                 hireDate             address  \\\n",
       "1  1952-02-19 00:00:00.000  1992-08-14 00:00:00.000  908 W. Capital Way   \n",
       "\n",
       "     city region postalCode country       homePhone  extension  \\\n",
       "1  Tacoma     WA      98401     USA  (206) 555-9482       3457   \n",
       "\n",
       "                                               photo  \\\n",
       "1  0x151C2F00020000000D000E0014002100FFFFFFFF4269...   \n",
       "\n",
       "                                               notes  reportsTo  \\\n",
       "1  Andrew received his BTS commercial in 1974 and...        NaN   \n",
       "\n",
       "                             photoPath  \n",
       "1  http://accweb/emmployees/fuller.bmp  "
      ]
     },
     "execution_count": 52,
     "metadata": {},
     "output_type": "execute_result"
    }
   ],
   "source": [
    "employee_df[employee_df[\"title\"] == \"Vice President Sales\"]"
   ]
  },
  {
   "cell_type": "code",
   "execution_count": 53,
   "metadata": {},
   "outputs": [],
   "source": [
    "vice_president = order_order_detail_customer_shipper_employee[order_order_detail_customer_shipper_employee[\"title\"] == \"Vice President Sales\"]"
   ]
  },
  {
   "cell_type": "code",
   "execution_count": 55,
   "metadata": {},
   "outputs": [],
   "source": [
    "def create_manager(tx, row):\n",
    "    tx.run(\"\"\"\n",
    "        MERGE (e:Employee {\n",
    "            employeeID: $employeeID,\n",
    "            lastName: $lastName,\n",
    "            firstName: $firstName,\n",
    "            title: $title,\n",
    "            titleOfCourtesy: $titleOfCourtesy,\n",
    "            birthDate: $birthDate,\n",
    "            hireDate: $hireDate,\n",
    "            address: $address_y,\n",
    "            city: $city_y,\n",
    "            region: $region_y,\n",
    "            postalCode: $postalCode_y,\n",
    "            country: $country_y,\n",
    "            homePhone: $homePhone,\n",
    "            extension: $extension,\n",
    "            photo: $photo,\n",
    "            notes: $notes,\n",
    "            photoPath: $photoPath\n",
    "    })\n",
    "    \"\"\", row)"
   ]
  },
  {
   "cell_type": "code",
   "execution_count": null,
   "metadata": {},
   "outputs": [],
   "source": [
    "with driver.session() as session:\n",
    "    for _, row in vice_president.iterrows():\n",
    "        session.write_transaction(create_manager, row.to_dict())"
   ]
  },
  {
   "cell_type": "code",
   "execution_count": 58,
   "metadata": {},
   "outputs": [],
   "source": [
    "def insert_data(tx, row):\n",
    "    tx.run(\"\"\"\n",
    "    CREATE (o:Order {\n",
    "        orderID: $orderID,\n",
    "        orderDate: $orderDate,\n",
    "        requiredDate: $requiredDate,\n",
    "        shippedDate: $shippedDate,\n",
    "        shipVia: $shipVia,\n",
    "        freight: $freight,\n",
    "        shipName: $shipName,\n",
    "        shipAddress: $shipAddress,\n",
    "        shipCity: $shipCity,\n",
    "        shipRegion: $shipRegion,\n",
    "        shipPostalCode: $shipPostalCode,\n",
    "        shipCountry: $shipCountry\n",
    "    })\n",
    "    WITH o\n",
    "    MATCH (p:Product { productID: $productID })\n",
    "    WITH p, o\n",
    "    MERGE (c:Customer {\n",
    "        customerID: $customerID,\n",
    "        companyName: $companyName_x,\n",
    "        contactName: $contactName,\n",
    "        contactTitle: $contactTitle,\n",
    "        address: $address_x,\n",
    "        city: $city_x,\n",
    "        region: $region_x,\n",
    "        postalCode: $postalCode_x,\n",
    "        country: $country_x,\n",
    "        phone: $phone_x,\n",
    "        fax: $fax\n",
    "    })\n",
    "    WITH c, p, o\n",
    "    MERGE (s:Shipper {\n",
    "        shipperID: $shipperID,\n",
    "        companyName: $companyName_y,\n",
    "        phone: $phone_y\n",
    "    })\n",
    "    WITH s, c, p, o\n",
    "    MERGE (e:Employee {\n",
    "        employeeID: $employeeID,\n",
    "        lastName: $lastName,\n",
    "        firstName: $firstName,\n",
    "        title: $title,\n",
    "        titleOfCourtesy: $titleOfCourtesy,\n",
    "        birthDate: $birthDate,\n",
    "        hireDate: $hireDate,\n",
    "        address: $address_y,\n",
    "        city: $city_y,\n",
    "        region: $region_y,\n",
    "        postalCode: $postalCode_y,\n",
    "        country: $country_y,\n",
    "        homePhone: $homePhone,\n",
    "        extension: $extension,\n",
    "        photo: $photo,\n",
    "        notes: $notes,\n",
    "        photoPath: $photoPath\n",
    "    })\n",
    "    WITH e, s, c, p, o\n",
    "    MATCH (m:Employee { employeeID: $reportsTo }) // Assuming reportsTo is the ID of the manager\n",
    "    WITH m, e, s, c, p, o\n",
    "    MERGE (e)-[:REPORTS_TO]->(m)\n",
    "    MERGE (o)-[:INCLUDES]->(p)\n",
    "    MERGE (o)-[:ORDERED_BY]->(c)\n",
    "    MERGE (o)-[:SHIPPED_BY]->(s)\n",
    "    MERGE (o)-[:PROCESSED_BY]->(e)\n",
    "    \"\"\", parameters=row)"
   ]
  },
  {
   "cell_type": "code",
   "execution_count": 59,
   "metadata": {},
   "outputs": [
    {
     "name": "stderr",
     "output_type": "stream",
     "text": [
      "/tmp/ipykernel_53024/2920845708.py:1: DeprecationWarning: Using a driver after it has been closed is deprecated. Future versions of the driver will raise an error.\n",
      "  with driver.session() as session:\n",
      "/tmp/ipykernel_53024/2920845708.py:3: DeprecationWarning: write_transaction has been renamed to execute_write\n",
      "  session.write_transaction(insert_data, row.to_dict())\n"
     ]
    }
   ],
   "source": [
    "with driver.session() as session:\n",
    "    for _, row in order_order_detail_customer_shipper_employee[:250].iterrows():\n",
    "        session.write_transaction(insert_data, row.to_dict())"
   ]
  },
  {
   "cell_type": "code",
   "execution_count": null,
   "metadata": {},
   "outputs": [],
   "source": []
  }
 ],
 "metadata": {
  "kernelspec": {
   "display_name": "venv",
   "language": "python",
   "name": "python3"
  },
  "language_info": {
   "codemirror_mode": {
    "name": "ipython",
    "version": 3
   },
   "file_extension": ".py",
   "mimetype": "text/x-python",
   "name": "python",
   "nbconvert_exporter": "python",
   "pygments_lexer": "ipython3",
   "version": "3.10.12"
  }
 },
 "nbformat": 4,
 "nbformat_minor": 2
}
